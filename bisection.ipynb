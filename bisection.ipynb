{
  "nbformat": 4,
  "nbformat_minor": 0,
  "metadata": {
    "colab": {
      "provenance": [],
      "collapsed_sections": [],
      "authorship_tag": "ABX9TyN8WkxIjHN9Gr81y6gki8aA",
      "include_colab_link": true
    },
    "kernelspec": {
      "name": "python3",
      "display_name": "Python 3"
    },
    "language_info": {
      "name": "python"
    }
  },
  "cells": [
    {
      "cell_type": "markdown",
      "metadata": {
        "id": "view-in-github",
        "colab_type": "text"
      },
      "source": [
        "<a href=\"https://colab.research.google.com/github/zakarya000/numberical/blob/main/bisection.ipynb\" target=\"_parent\"><img src=\"https://colab.research.google.com/assets/colab-badge.svg\" alt=\"Open In Colab\"/></a>"
      ]
    },
    {
      "cell_type": "code",
      "execution_count": 1,
      "metadata": {
        "colab": {
          "base_uri": "https://localhost:8080/"
        },
        "id": "NwTCZ1jQ42My",
        "outputId": "54410acb-f2e9-4154-ed1c-5ae3d18f0fbd"
      },
      "outputs": [
        {
          "output_type": "stream",
          "name": "stdout",
          "text": [
            "Root  : 1.8637065278191893\n"
          ]
        }
      ],
      "source": [
        "def bisectionMet(f , a , b ):\n",
        "    fa = f(a)\n",
        "    fb = f(b)\n",
        "\n",
        "    if fa * fb > 0:\n",
        "        print(\"f(a) and f(b) must be different signs :(\")\n",
        "        return None\n",
        "\n",
        "    for _ in range(100):  \n",
        "        c = (a + b) / 2\n",
        "        fc = f(c)\n",
        "\n",
        "        if fc == 0:\n",
        "            return c\n",
        "        if fa * fc > 0:\n",
        "            a = c\n",
        "            fa = fc\n",
        "        if fb * fc > 0:\n",
        "            b = c\n",
        "            fb = fc\n",
        "\n",
        "    return c\n",
        "\n",
        "\n",
        "func = lambda x: x ** 3 - x**2 - 3\n",
        "\n",
        "a = 1\n",
        "b = 2\n",
        "\n",
        "x = bisectionMet(func, a, b)\n",
        "print(f\"Root  : {x}\")\n"
      ]
    }
  ]
}